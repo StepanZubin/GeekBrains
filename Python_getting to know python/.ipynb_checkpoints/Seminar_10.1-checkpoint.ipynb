{
 "cells": [
  {
   "cell_type": "markdown",
   "id": "dfa631a1-6e30-44d4-bf93-ec8a124bece0",
   "metadata": {},
   "source": [
    "Дана функция f(x) = 5x^2 + 10x - 30\n",
    "1. Определить корни\n",
    "2. Найти интервалы, на которых функция возрастает\n",
    "3. Найти интервалы, на которых функция убывает\n",
    "4. Построить график\n",
    "5. Вычислить вершину\n",
    "6. Определить промежутки, на котором f > 0\n",
    "7. Определить промежутки, на котором f < 0"
   ]
  },
  {
   "cell_type": "code",
   "execution_count": 2,
   "id": "a15ee55b-2e6c-4bbc-8b3e-15b962ad83d2",
   "metadata": {},
   "outputs": [
    {
     "name": "stdout",
     "output_type": "stream",
     "text": [
      "5\n"
     ]
    }
   ],
   "source": [
    "print(5)"
   ]
  },
  {
   "cell_type": "code",
   "execution_count": null,
   "id": "27a3ae73-1a12-4b88-bfe5-222454d62839",
   "metadata": {},
   "outputs": [],
   "source": []
  }
 ],
 "metadata": {
  "kernelspec": {
   "display_name": "Python 3 (ipykernel)",
   "language": "python",
   "name": "python3"
  },
  "language_info": {
   "codemirror_mode": {
    "name": "ipython",
    "version": 3
   },
   "file_extension": ".py",
   "mimetype": "text/x-python",
   "name": "python",
   "nbconvert_exporter": "python",
   "pygments_lexer": "ipython3",
   "version": "3.9.13"
  }
 },
 "nbformat": 4,
 "nbformat_minor": 5
}
